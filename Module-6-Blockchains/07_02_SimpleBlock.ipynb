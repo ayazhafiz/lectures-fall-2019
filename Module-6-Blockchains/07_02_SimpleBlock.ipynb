{
 "cells": [
  {
   "cell_type": "markdown",
   "metadata": {},
   "source": [
    "* A block is just a collection of transactions. \n",
    "* It also contains its own hash and the has of its previous block.\n",
    "* The hash of the previous block creates a tight link to the current block\n",
    "* if you change anything from the past its hash changes and that also forces the hash of subsequent blocks to be invalidated. Think how."
   ]
  },
  {
   "cell_type": "code",
   "execution_count": 28,
   "metadata": {},
   "outputs": [],
   "source": [
    "import hashlib as hasher\n",
    "\n",
    "class Block:\n",
    "  def __init__(self, index, timestamp, data, previous_hash):\n",
    "    self.index = index\n",
    "    self.timestamp = timestamp\n",
    "    self.data = data\n",
    "    self.previous_hash = previous_hash\n",
    "    self.hash = self.hash_block()\n",
    "  \n",
    "  def hash_block(self):\n",
    "    sha = hasher.sha256()\n",
    "    sha.update(str(self.index).encode('utf-8') + \n",
    "               str(self.timestamp).encode('utf-8') + \n",
    "               str(self.data).encode('utf-8') + \n",
    "               str(self.previous_hash).encode('utf-8'))\n",
    "  \n",
    "    return sha.hexdigest()"
   ]
  },
  {
   "cell_type": "markdown",
   "metadata": {},
   "source": [
    "* You always need a genesis Block"
   ]
  },
  {
   "cell_type": "code",
   "execution_count": 29,
   "metadata": {},
   "outputs": [],
   "source": [
    "import datetime as date\n",
    "\n",
    "def create_genesis_block():\n",
    "  # Manually construct a block with\n",
    "  # index zero and arbitrary previous hash\n",
    "  return Block(0, date.datetime.now(), \"Genesis Block\", \"0\")"
   ]
  },
  {
   "cell_type": "markdown",
   "metadata": {},
   "source": [
    "* The data that goes into a block will decide when the block is mined. \n",
    "* if the data is 100 transactions, then you will need to receive all the 100 transactions before the block can be mined\n"
   ]
  },
  {
   "cell_type": "code",
   "execution_count": 30,
   "metadata": {},
   "outputs": [],
   "source": [
    "\n",
    "def next_block(last_block):\n",
    "  this_index = last_block.index + 1\n",
    "  this_timestamp = date.datetime.now()\n",
    "  this_data = \"My Data\" + str(this_index)\n",
    "  this_hash = last_block.hash\n",
    "  return Block(this_index, this_timestamp, this_data, this_hash)"
   ]
  },
  {
   "cell_type": "markdown",
   "metadata": {},
   "source": [
    "* A miner is responsible for receiving all the transactions and creating the block.\n",
    "* The new block is then transmitted to everyone else\n",
    "* As you can see we do need the ability to dismbiguate the situations when two miners create the block with same index and send the two blocks to a third agent. The third agent has to decide which one should it pick"
   ]
  },
  {
   "cell_type": "code",
   "execution_count": 31,
   "metadata": {},
   "outputs": [
    {
     "name": "stdout",
     "output_type": "stream",
     "text": [
      "Block #1 has been added to the blockchain!\n",
      "Hash: 3dfb19f823e4d5eff26ba913955e11c250f7bfe67bbb5af18b2d33ff150ac52a\n",
      "\n",
      "Block #2 has been added to the blockchain!\n",
      "Hash: bb3cc76f74ce327b6ec0aa7a9970b5a551369251da71e001003cc4eebb817e07\n",
      "\n",
      "Block #3 has been added to the blockchain!\n",
      "Hash: e9415ac7b0a8de6458ef73aff3e8059ff225d0b846d50178b2053d91149abae7\n",
      "\n",
      "Block #4 has been added to the blockchain!\n",
      "Hash: 9f04d9fcaa1fa5814d496e8fc10c123b310587eea14dabf0db128526eb742948\n",
      "\n",
      "Block #5 has been added to the blockchain!\n",
      "Hash: e687ca915b8a977ceb2005dc336dd8ec94eb18ee4a34f88b1292579c34fa198e\n",
      "\n",
      "Block #6 has been added to the blockchain!\n",
      "Hash: 6c340d2dd5168f417a28f24ce26986b32dddf69f3d6abdcc8cb6685152cd0336\n",
      "\n",
      "Block #7 has been added to the blockchain!\n",
      "Hash: 2f61a00e4301170f9ff6290e23752ce41e4ce5ee2aa1bf7be1ef1bc1a604448f\n",
      "\n",
      "Block #8 has been added to the blockchain!\n",
      "Hash: 470533537e182b5c94e42ab393c710d116868208acb06ae907d03994dd7fc14c\n",
      "\n",
      "Block #9 has been added to the blockchain!\n",
      "Hash: 7e20b2f1dce7839a81a8abf65ba956aff08b0e245e8859e6759ee26d13e01384\n",
      "\n",
      "Block #10 has been added to the blockchain!\n",
      "Hash: 95c52e2bf15293fb230d1a6fb90c4331f98d028c240e31f17bb40e9f9ef23479\n",
      "\n",
      "Block #11 has been added to the blockchain!\n",
      "Hash: 26be333e5fce0adb10b031fbb502ae20798727ee574913b8c968f88a8724176e\n",
      "\n",
      "Block #12 has been added to the blockchain!\n",
      "Hash: 6d2a883802963d50e76813255dc48c56b04e654eb6a11bd7b60f764c3209d9da\n",
      "\n",
      "Block #13 has been added to the blockchain!\n",
      "Hash: 22e7588255e95a8779b29c15e11030bff5359c58f8906edf47b94efdf0f79f6b\n",
      "\n",
      "Block #14 has been added to the blockchain!\n",
      "Hash: 7a860032df1cc49eecbccf98c91c287c0ec30b4f015c7451fdf40254dafc1078\n",
      "\n",
      "Block #15 has been added to the blockchain!\n",
      "Hash: ab2bb6d661dedf505a6f389cf7710a30400205856919d7a3da5d258dbc58813b\n",
      "\n",
      "Block #16 has been added to the blockchain!\n",
      "Hash: 41052b6cdb62b21731d35e2bc6f28e831fce1055bc7cc02238b3908a879adaf3\n",
      "\n",
      "Block #17 has been added to the blockchain!\n",
      "Hash: 69dfdec64b1a50e11ead932a4b7602a24a21bde779d10e0cb71e58dd9f98d20f\n",
      "\n",
      "Block #18 has been added to the blockchain!\n",
      "Hash: 2756b9eedb228de05cc92d1f591f25f5f51cf002d16f9c34bdb1bb72f45f859c\n",
      "\n",
      "Block #19 has been added to the blockchain!\n",
      "Hash: 0675cfad1dd71bd9b845967bbaae68c271cacf1b0233d7f3633d89c6a408b660\n",
      "\n",
      "Block #20 has been added to the blockchain!\n",
      "Hash: bbce8fef15d60740afddec466fb7af8657e4c3681672770ef425211089a601de\n",
      "\n"
     ]
    }
   ],
   "source": [
    "# Create the blockchain and add the genesis block\n",
    "blockchain = [create_genesis_block()]\n",
    "previous_block = blockchain[0]\n",
    "\n",
    "# How many blocks should we add to the chain\n",
    "# after the genesis block\n",
    "num_of_blocks_to_add = 20\n",
    "\n",
    "# Add blocks to the chain\n",
    "for i in range(0, num_of_blocks_to_add):\n",
    "  block_to_add = next_block(previous_block)\n",
    "  blockchain.append(block_to_add)\n",
    "  previous_block = block_to_add\n",
    "  # Tell everyone about it!\n",
    "  print (\"Block #{} has been added to the blockchain!\".format(block_to_add.index))\n",
    "  print (\"Hash: {}\\n\".format(block_to_add.hash)) "
   ]
  },
  {
   "cell_type": "code",
   "execution_count": null,
   "metadata": {},
   "outputs": [],
   "source": []
  }
 ],
 "metadata": {
  "kernelspec": {
   "display_name": "Python 3",
   "language": "python",
   "name": "python3"
  },
  "language_info": {
   "codemirror_mode": {
    "name": "ipython",
    "version": 3
   },
   "file_extension": ".py",
   "mimetype": "text/x-python",
   "name": "python",
   "nbconvert_exporter": "python",
   "pygments_lexer": "ipython3",
   "version": "3.7.0"
  }
 },
 "nbformat": 4,
 "nbformat_minor": 2
}
