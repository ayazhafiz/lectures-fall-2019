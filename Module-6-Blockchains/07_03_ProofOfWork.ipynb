{
 "cells": [
  {
   "cell_type": "markdown",
   "metadata": {},
   "source": [
    "# This code is based on Snake Coin code base\n",
    "\n",
    "* Okay lets now try to create a blockchain that supports the following features\n",
    " * add transactions - sending money from one account to another account\n",
    " * mine - create blocks. Note this adds a transaction from network to miner - get some money\n",
    " * send blocks to others, receive blocks from others\n",
    " * achieve consensus on blocks\n",
    " \n",
    "* This is the same block as before.\n",
    "* we are going to work with JSON to transmit and receive blocks"
   ]
  },
  {
   "cell_type": "code",
   "execution_count": null,
   "metadata": {},
   "outputs": [],
   "source": [
    "\n",
    "\n",
    "import hashlib as hasher\n",
    "import json\n",
    "import pprint\n",
    "pp = pprint.PrettyPrinter(indent=4)\n",
    "class Block:\n",
    "  def __init__(self, index, timestamp, data, previous_hash):\n",
    "    self.index = index\n",
    "    self.timestamp = timestamp\n",
    "    self.data = data\n",
    "\n",
    "        \n",
    "    self.previous_hash = previous_hash\n",
    "    self.hash = self.hash_block()\n",
    "  \n",
    "  def hash_block(self):\n",
    "    sha = hasher.sha256()\n",
    "    sha.update(str(self.index).encode('utf-8') + \n",
    "               str(self.timestamp).encode('utf-8') + \n",
    "               str(self.data).encode('utf-8') + \n",
    "               str(self.previous_hash).encode('utf-8'))\n",
    "  \n",
    "    return sha.hexdigest()"
   ]
  },
  {
   "cell_type": "markdown",
   "metadata": {},
   "source": [
    "* Now our genesis blocks contains the transactions in a list\n",
    "* the proof of work is an entry that shows how we have finalized the block"
   ]
  },
  {
   "cell_type": "code",
   "execution_count": 1,
   "metadata": {},
   "outputs": [],
   "source": [
    "import datetime as date\n",
    "\n",
    "def create_genesis_block():\n",
    "  # Manually construct a block with\n",
    "  # index zero and arbitrary previous hash\n",
    "  genesisdata = {\n",
    "    \"proof-of-work\": 3,\n",
    "    \"transactions\": []\n",
    "  }\n",
    "  return Block(0, date.datetime.now(), genesisdata, \"0\")"
   ]
  },
  {
   "cell_type": "markdown",
   "metadata": {},
   "source": [
    "* Our blockchain is still a list"
   ]
  },
  {
   "cell_type": "code",
   "execution_count": null,
   "metadata": {},
   "outputs": [],
   "source": [
    "# Create the blockchain and add the genesis block\n",
    "blockchain = [create_genesis_block()]\n",
    "previous_block = blockchain[0]"
   ]
  },
  {
   "cell_type": "markdown",
   "metadata": {},
   "source": [
    "* We will use Flask to communicate with the blockchain.\n",
    "* txion will add a JSON transaction\n"
   ]
  },
  {
   "cell_type": "code",
   "execution_count": null,
   "metadata": {},
   "outputs": [],
   "source": [
    "from flask import Flask\n",
    "from flask import request\n",
    "node = Flask(__name__)\n",
    "\n",
    "# Store the transactions that\n",
    "# this node has in a list\n",
    "this_nodes_transactions = []\n",
    "\n",
    "@node.route('/txion', methods=['POST'])\n",
    "def transaction():\n",
    "  if request.method == 'POST':\n",
    "    # On each new POST request,\n",
    "    # we extract the transaction data\n",
    "    new_txion = request.get_json()\n",
    "    # Then we add the transaction to our list\n",
    "    this_nodes_transactions.append(new_txion)\n",
    "    # Because the transaction was successfully\n",
    "    # submitted, we log it to our console\n",
    "    print (\"New transaction\")\n",
    "    print (\"FROM: {}\".format(new_txion['from']))\n",
    "    print (\"TO: {}\".format(new_txion['to']))\n",
    "    print (\"AMOUNT: {}\\n\".format(new_txion['amount']))\n",
    "    # Then we let the client know it worked out\n",
    "    return \"Transaction submission successful\\n\"\n"
   ]
  },
  {
   "cell_type": "markdown",
   "metadata": {},
   "source": [
    "* proof of work will find the next number that is divisible by last proof of work and the number 9. Just an arbitrary computation to slow down the creation of blocks. Why do we need to do this?\n",
    "\n",
    "* Note that before finalizing the block we add all received transactions\n",
    "* we also add a transaction to send money to the miner from the network."
   ]
  },
  {
   "cell_type": "code",
   "execution_count": null,
   "metadata": {},
   "outputs": [],
   "source": [
    "\n",
    "miner_address = \"q3nf394hjg-random-miner-address-34nf3i4nflkn3oi\"\n",
    "\n",
    "def proof_of_work(last_proof):\n",
    "  # Create a variable that we will use to find\n",
    "  # our next proof of work\n",
    "  incrementor = last_proof + 1\n",
    "  # Keep incrementing the incrementor until\n",
    "  # it's equal to a number divisible by 9\n",
    "  # and the proof of work of the previous\n",
    "  # block in the chain\n",
    "  while not (incrementor % 9 == 0 and incrementor % last_proof == 0):\n",
    "    incrementor += 1\n",
    "  # Once that number is found,\n",
    "  # we can return it as a proof\n",
    "  # of our work\n",
    "  return incrementor\n",
    "\n",
    "@node.route('/mine', methods = ['GET'])\n",
    "def mine():\n",
    "  # Get the last proof of work\n",
    "  last_block = blockchain[len(blockchain) - 1]\n",
    "  last_proof = last_block.data['proof-of-work']\n",
    "  # Find the proof of work for\n",
    "  # the current block being mined\n",
    "  # Note: The program will hang here until a new\n",
    "  #       proof of work is found\n",
    "  proof = proof_of_work(last_proof)\n",
    "  # Once we find a valid proof of work,\n",
    "  # we know we can mine a block so \n",
    "  # we reward the miner by adding a transaction\n",
    "  this_nodes_transactions.append(\n",
    "    { \"from\": \"network\", \"to\": miner_address, \"amount\": 1 }\n",
    "  )\n",
    "  # Now we can gather the data needed\n",
    "  # to create the new block\n",
    "  new_block_data = {\n",
    "    \"proof-of-work\": proof,\n",
    "    \"transactions\": list(this_nodes_transactions)\n",
    "  }\n",
    "  new_block_index = last_block.index + 1\n",
    "  new_block_timestamp = this_timestamp = date.datetime.now()\n",
    "  last_block_hash = last_block.hash\n",
    "  # Empty transaction list\n",
    "  this_nodes_transactions[:] = []\n",
    "  # Now create the\n",
    "  # new block!\n",
    "  mined_block = Block(\n",
    "    new_block_index,\n",
    "    new_block_timestamp,\n",
    "    new_block_data,\n",
    "    last_block_hash\n",
    "  )\n",
    "  blockchain.append(mined_block)\n",
    "  # Let the client know we mined a block\n",
    "  data= json.dumps({\n",
    "      \"index\": new_block_index,\n",
    "      \"timestamp\": str(new_block_timestamp),\n",
    "      \"data\": new_block_data,\n",
    "      \"prvBlock\": last_block_hash,\n",
    "      \"currentHash\":mined_block.hash\n",
    "  }) + \"\\n\"\n",
    " \n",
    "  pp.pprint(data)\n",
    "  return data"
   ]
  },
  {
   "cell_type": "markdown",
   "metadata": {},
   "source": [
    "* we send the blocks to others and receive it\n",
    "* the consensus is the longest chain rule\n",
    "* note that due to consensus mechanism it is possible that we will lose out some transactions.\n",
    "* However, if the blockchain is stable around 10 new blocks have been added then the probability of losing out transactions is almost zero."
   ]
  },
  {
   "cell_type": "code",
   "execution_count": null,
   "metadata": {},
   "outputs": [],
   "source": [
    "\n",
    "@node.route('/blocks', methods=['GET'])\n",
    "def get_blocks():\n",
    "  chain_to_send = blockchain\n",
    "  jsonversion=[]\n",
    "  # Convert our blocks into dictionaries\n",
    "  # so we can send them as json objects later\n",
    "  for block in chain_to_send:\n",
    "    block_index = str(block.index)\n",
    "    block_timestamp = str(block.timestamp)\n",
    "    block_data = str(block.data)\n",
    "    block_hash = block.hash\n",
    "    previoushash=block.previous_hash\n",
    "    block = {\n",
    "      \"index\": block_index,\n",
    "      \"timestamp\": block_timestamp,\n",
    "      \"data\": block_data,\n",
    "      \"hash\": block_hash,\n",
    "      \"previous block\": previous_hash \n",
    "    }\n",
    "    jsonversion.append(block)\n",
    "  # Send our chain to whomever requested it\n",
    "  \n",
    "  return json.dumps(jsonversion)\n",
    "\n",
    "def find_new_chains():\n",
    "  # Get the blockchains of every\n",
    "  # other node\n",
    "  other_chains = []\n",
    "  for node_url in peer_nodes:\n",
    "    # Get their chains using a GET request\n",
    "    block = requests.get(node_url + \"/blocks\").content\n",
    "    # Convert the JSON object to a Python dictionary\n",
    "    block = json.loads(block)\n",
    "    # Add it to our list\n",
    "    other_chains.append(block)\n",
    "  return other_chains\n",
    "\n",
    "def consensus():\n",
    "  # Get the blocks from other nodes\n",
    "  other_chains = find_new_chains()\n",
    "  # If our chain isn't longest,\n",
    "  # then we store the longest chain\n",
    "  longest_chain = blockchain\n",
    "  for chain in other_chains:\n",
    "    if len(longest_chain) < len(chain):\n",
    "      longest_chain = chain\n",
    "  # If the longest chain wasn't ours,\n",
    "  # then we set our chain to the longest\n",
    "  blockchain = longest_chain"
   ]
  },
  {
   "cell_type": "code",
   "execution_count": null,
   "metadata": {
    "scrolled": true
   },
   "outputs": [],
   "source": [
    "node.run()"
   ]
  },
  {
   "cell_type": "markdown",
   "metadata": {},
   "source": [
    "```\n",
    "curl \"localhost:5000/txion\"      -H \"Content-Type: application/json\"      -d '{\"from\": \"fkjflw\", \"to\":\"fjlakdj\", \"amount\": 4}'\n",
    "  % Total    % Received % Xferd  Average Speed   Time    Time     Time  Current\n",
    "                                 Dload  Upload   Total   Spent    Left  Speed\n",
    "100    81  100    34  100    47    155    214 --:--:-- --:--:-- --:--:--   369Transaction submission successful\n",
    "```\n",
    "\n",
    "\n"
   ]
  },
  {
   "cell_type": "markdown",
   "metadata": {},
   "source": [
    "```\n",
    "curl localhost:5000/mine\n",
    "```\n",
    "```\n",
    "  % Total    % Received % Xferd  Average Speed   Time    Time     Time  CurrentDload  Upload   Total   Spent    Left  Speed\n",
    "100   358  100   358    0     0   1529      0 --:--:-- --:--:-- --:--:--  1529\n",
    "\n",
    "{\n",
    "\"index\": 4, \n",
    "\"timestamp\": \"2018-11-07 22:28:34.985955\",\n",
    "\"data\": {\"proof-of-work\": 9, \n",
    "    \"transactions\": [{\"from\": \"network\", \"to\": \"q3nf394hjg-random-miner-address-34nf3i4nflkn3oi\", \"amount\": 1}]}, \n",
    " \"prvBlock\": \"be910c95d0e15ff380c748bf3b4e7062a6fb3c86cd55a7ade20c7002c91c3dc1\", \n",
    " \"currentHash\": \"42dce73f8a56cfd01b91a2549816ef01423a6d5f00404064d3346c4ebe38fd03\"\n",
    "}\n",
    "```"
   ]
  },
  {
   "cell_type": "markdown",
   "metadata": {},
   "source": [
    "* try curl localhost:5000/blocks"
   ]
  },
  {
   "cell_type": "code",
   "execution_count": null,
   "metadata": {},
   "outputs": [],
   "source": []
  }
 ],
 "metadata": {
  "kernelspec": {
   "display_name": "Python 3",
   "language": "python",
   "name": "python3"
  },
  "language_info": {
   "codemirror_mode": {
    "name": "ipython",
    "version": 3
   },
   "file_extension": ".py",
   "mimetype": "text/x-python",
   "name": "python",
   "nbconvert_exporter": "python",
   "pygments_lexer": "ipython3",
   "version": "3.7.0"
  }
 },
 "nbformat": 4,
 "nbformat_minor": 2
}
